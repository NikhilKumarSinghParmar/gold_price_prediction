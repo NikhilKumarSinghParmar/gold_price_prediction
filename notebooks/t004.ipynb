{
 "cells": [
  {
   "cell_type": "code",
   "execution_count": 1,
   "id": "e57f2769",
   "metadata": {},
   "outputs": [],
   "source": [
    "import pandas as pd\n",
    "import numpy as np\n",
    "import matplotlib.pyplot as plt\n",
    "import seaborn as snb\n",
    "import plotly.express as ex\n",
    "from datetime import datetime\n",
    "import os\n",
    "import sys "
   ]
  },
  {
   "cell_type": "code",
   "execution_count": 2,
   "id": "557ae9e2",
   "metadata": {},
   "outputs": [],
   "source": [
    "from sklearn.preprocessing import MinMaxScaler\n",
    "from sklearn.model_selection import train_test_split\n",
    "from sklearn.metrics import mean_absolute_error"
   ]
  },
  {
   "cell_type": "code",
   "execution_count": 42,
   "id": "68c2c579",
   "metadata": {},
   "outputs": [],
   "source": [
    "import tensorflow as tf\n",
    "from keras.layers import (\n",
    "    Input,\n",
    "    LSTM,\n",
    "    Dropout,\n",
    "    Dense\n",
    ")\n",
    "from keras.models import (\n",
    "    Model,\n",
    "    Sequential,\n",
    "    load_model\n",
    ")\n",
    "from keras.metrics import MeanAbsoluteError"
   ]
  },
  {
   "cell_type": "code",
   "execution_count": 8,
   "id": "1828273e",
   "metadata": {},
   "outputs": [],
   "source": [
    "def locate_input_file(input_file_name=\"gold_price_2013_2023.csv\"):\n",
    "    try:\n",
    "        dir_name=os.getcwd()\n",
    "        input_file_path=os.path.join(dir_name,input_file_name)\n",
    "        # print(input_file_path)\n",
    "        return input_file_path\n",
    "    \n",
    "    except Exception as e:\n",
    "        print(f\"error : {e}\")"
   ]
  },
  {
   "cell_type": "code",
   "execution_count": 9,
   "id": "6c76071b",
   "metadata": {},
   "outputs": [],
   "source": [
    "def get_input_data(file_path):\n",
    "    \n",
    "    try:\n",
    "        df=pd.read_csv(file_path)\n",
    "        return df\n",
    "    \n",
    "    except Exception as e:\n",
    "        print(f\"error : {e}\")\n",
    "\n"
   ]
  },
  {
   "cell_type": "code",
   "execution_count": 12,
   "id": "62db9800",
   "metadata": {},
   "outputs": [],
   "source": [
    "def print_details(df):\n",
    "    try:\n",
    "        print(f\"shape of df : {df.shape}\\n\")\n",
    "        print(f\"columns of df : {df.columns}\\n\\n\")\n",
    "        print(f\"information about df : \\n{df.info()}\\n\\n\")\n",
    "        print(f\"description about df : \\n{df.describe()}\\n\\n\")\n",
    "        print(f\"head of df : \\n{df.head()}\\n\\n\")\n",
    "        print(f\"tail of df : \\n{df.tail()}\\n\\n\")\n",
    "\n",
    "        for col in df.columns:    \n",
    "            print(f\"value count of df : \\n {df[col].value_counts()}\")    \n",
    "\n",
    "    except Exception as e:\n",
    "        print(f\"error : {e}\")"
   ]
  },
  {
   "cell_type": "code",
   "execution_count": 13,
   "id": "89548c05",
   "metadata": {},
   "outputs": [],
   "source": [
    "def remove_unwanted_columns(df,unwanted_columns):\n",
    "    try:\n",
    "        # unwanted_columns=['Open', 'High', 'Low', 'Vol.', 'Change %']\n",
    "        unwanted_count=len(unwanted_columns)\n",
    "        # print(unwanted_count)\n",
    "        temp_count=0\n",
    "        for col in unwanted_columns:\n",
    "            if col in df.columns:\n",
    "                temp_count+=1\n",
    "\n",
    "        \n",
    "        if temp_count==unwanted_count :\n",
    "            print(f\"all unwanted columns can be removed.\")\n",
    "        else:\n",
    "            print(f\"all unwanted columns can not be removed.\")\n",
    "\n",
    "        df=df.drop(columns=unwanted_columns,axis=1)\n",
    "\n",
    "        return df\n",
    "    \n",
    "    except Exception as e:\n",
    "        print(f\"error : {e}\")"
   ]
  },
  {
   "cell_type": "code",
   "execution_count": 14,
   "id": "99f03c83",
   "metadata": {},
   "outputs": [],
   "source": [
    "def sort_date(df):\n",
    "    try:\n",
    "        df.sort_values(\n",
    "            by=[\"Date\"],\n",
    "            axis=0,\n",
    "            ascending=True,\n",
    "            inplace=True\n",
    "        )\n",
    "        return df\n",
    "\n",
    "    except Exception as e:\n",
    "        print(f\"error : {e}\")"
   ]
  },
  {
   "cell_type": "code",
   "execution_count": 15,
   "id": "97373190",
   "metadata": {},
   "outputs": [],
   "source": [
    "def clean_data(df):\n",
    "    try:\n",
    "        df[\"Date\"]=pd.to_datetime(df[\"Date\"])\n",
    "        df[\"Price\"]=df[\"Price\"].str.replace(\",\",\"\").astype(float)\n",
    "        df=sort_date(df)\n",
    "\n",
    "        return df\n",
    "\n",
    "    except Exception as e:\n",
    "        print(f\"error : {e}\")"
   ]
  },
  {
   "cell_type": "code",
   "execution_count": 16,
   "id": "36473500",
   "metadata": {},
   "outputs": [],
   "source": [
    "def handle_missing(df):\n",
    "    try:\n",
    "        print(f\"Column-wise missing values:\\n{df.isnull().sum()}\\n\")\n",
    "        print(f\"Total missing values: {df.isnull().sum().sum()}\\n\")\n",
    "\n",
    "        num_cols = df.select_dtypes(include=[\"int64\", \"float64\"]).columns\n",
    "        cat_cols = df.select_dtypes(include=\"object\").columns\n",
    "\n",
    "        print(f\"Numerical columns: {list(num_cols)}\")\n",
    "        print(f\"Categorical columns: {list(cat_cols)}\")\n",
    "\n",
    "        # Fill missing values\n",
    "        for col in num_cols:\n",
    "            df[col] = df[col].fillna(df[col].mean())\n",
    "\n",
    "        for col in cat_cols:\n",
    "            df[col] = df[col].fillna(df[col].mode()[0])\n",
    "\n",
    "        return df\n",
    "\n",
    "    except Exception as e:\n",
    "        print(\"Error:\", e)\n",
    "def handle_missing(df):\n",
    "    try:\n",
    "        print(f\"Column-wise missing values:\\n{df.isnull().sum()}\\n\")\n",
    "        print(f\"Total missing values: {df.isnull().sum().sum()}\\n\")\n",
    "\n",
    "        num_cols = df.select_dtypes(include=[\"int64\", \"float64\"]).columns\n",
    "        cat_cols = df.select_dtypes(include=\"object\").columns\n",
    "\n",
    "        print(f\"Numerical columns: {list(num_cols)}\")\n",
    "        print(f\"Categorical columns: {list(cat_cols)}\")\n",
    "\n",
    "        # Fill missing values\n",
    "        for col in num_cols:\n",
    "            df[col] = df[col].fillna(df[col].mean())\n",
    "\n",
    "        for col in cat_cols:\n",
    "            df[col] = df[col].fillna(df[col].mode()[0])\n",
    "\n",
    "        return df\n",
    "\n",
    "    except Exception as e:\n",
    "        print(\"Error:\", e)\n"
   ]
  },
  {
   "cell_type": "code",
   "execution_count": 17,
   "id": "a807878f",
   "metadata": {},
   "outputs": [],
   "source": [
    "def handle_duplicate(df):\n",
    "    try:\n",
    "        duplicate_count=df.duplicated().sum()\n",
    "        print(f\"duplicated  values : {duplicate_count}\")\n",
    "        \n",
    "        if duplicate_count>0:\n",
    "            df.drop_duplicates(ignore_index=True)\n",
    "\n",
    "        return df\n",
    "\n",
    "    except Exception as e:\n",
    "        print(e)"
   ]
  },
  {
   "cell_type": "code",
   "execution_count": 52,
   "id": "d3043803",
   "metadata": {},
   "outputs": [],
   "source": [
    "def build_train_dataset(df,start_point,test_size,window):\n",
    "    try:\n",
    "        train_data=df[\"Price\"][:-test_size].to_numpy().reshape(-1,1)\n",
    "        date_train=[]\n",
    "        x_train=[]\n",
    "        y_train=[]\n",
    "\n",
    "        for i in range(start_point+1,len(train_data)):\n",
    "            x_train.append(train_data[i-window:i,0])\n",
    "            y_train.append(train_data[i,0])\n",
    "            date_train.append(df[\"Date\"].iloc[i])\n",
    "            # date_train.append(df[\"Date\"][i])\n",
    "\n",
    "        x_train=np.array(x_train)\n",
    "        y_train=np.array(y_train)\n",
    "        date_train=np.array(date_train)\n",
    "\n",
    "        print(f\"date_train shape :{date_train.shape}\")\n",
    "        print(f\"x_train shape :{x_train.shape}\")\n",
    "        print(f\"y_train shape :{y_train.shape}\")\n",
    "\n",
    "\n",
    "        return date_train,x_train,y_train\n",
    "\n",
    "    except Exception as e:\n",
    "        print(f\"error : {e}\")"
   ]
  },
  {
   "cell_type": "code",
   "execution_count": null,
   "id": "cf169fda",
   "metadata": {},
   "outputs": [],
   "source": [
    "# def build_test_dataset(df,start_point,test_size,window):\n",
    "#     try:\n",
    "                \n",
    "#         test_data=df[\"Price\"][-test_size-window:].to_numpy().reshape(-1,1)\n",
    "#         x_test=[]\n",
    "#         y_test=[]\n",
    "\n",
    "#         for i in range(window,len(test_data)):\n",
    "#             x_test.append(test_data[i-window:i,0])\n",
    "#             y_test.append(test_data[i,0])\n",
    "\n",
    "#         x_test=np.array(x_test)\n",
    "#         y_test=np.array(y_test)\n",
    "        \n",
    "#         print(f\"date_train shape :{date_train.shape}\")\n",
    "#         print(f\"x_train shape :{x_train.shape}\")\n",
    "#         print(f\"y_train shape :{y_train.shape}\")\n",
    "\n",
    "#         return x_test,y_test\n",
    "\n",
    "#     except Exception as e:\n",
    "#         print(f\"error : {e}\")"
   ]
  },
  {
   "cell_type": "code",
   "execution_count": null,
   "id": "7faf9999",
   "metadata": {},
   "outputs": [
    {
     "name": "stdout",
     "output_type": "stream",
     "text": [
      "240\n"
     ]
    }
   ],
   "source": []
  },
  {
   "cell_type": "code",
   "execution_count": null,
   "id": "0d390bfa",
   "metadata": {},
   "outputs": [
    {
     "name": "stdout",
     "output_type": "stream",
     "text": [
      "240\n"
     ]
    }
   ],
   "source": []
  },
  {
   "cell_type": "code",
   "execution_count": 20,
   "id": "398a400e",
   "metadata": {},
   "outputs": [],
   "source": [
    "def test_training():\n",
    "    try:\n",
    "        input_file_path=locate_input_file()\n",
    "        print(input_file_path)  \n",
    "\n",
    "\n",
    "        df=get_input_data(input_file_path)\n",
    "        print_details(df)\n",
    "\n",
    "        unwanted_columns=['Open', 'High', 'Low', 'Vol.', 'Change %']\n",
    "        df=remove_unwanted_columns(df,unwanted_columns)\n",
    "        print_details(df)\n",
    "\n",
    "        df=clean_data(df)\n",
    "        print(df.head())\n",
    "        print(df.tail())\n",
    "        \n",
    "\n",
    "        df=handle_missing(df)\n",
    "\n",
    "        df=handle_duplicate(df)\n",
    "\n",
    "        return df\n",
    "\n",
    "\n",
    "\n",
    "    except Exception as e:\n",
    "        print(f\"error : {e}\")"
   ]
  },
  {
   "cell_type": "code",
   "execution_count": 22,
   "id": "43fafa72",
   "metadata": {},
   "outputs": [
    {
     "name": "stdout",
     "output_type": "stream",
     "text": [
      "e:\\data_science_play_ground\\gold_price_prediction\\gold_price_2013_2023.csv\n",
      "shape of df : (2583, 7)\n",
      "\n",
      "columns of df : Index(['Date', 'Price', 'Open', 'High', 'Low', 'Vol.', 'Change %'], dtype='object')\n",
      "\n",
      "\n",
      "<class 'pandas.core.frame.DataFrame'>\n",
      "RangeIndex: 2583 entries, 0 to 2582\n",
      "Data columns (total 7 columns):\n",
      " #   Column    Non-Null Count  Dtype \n",
      "---  ------    --------------  ----- \n",
      " 0   Date      2583 non-null   object\n",
      " 1   Price     2583 non-null   object\n",
      " 2   Open      2583 non-null   object\n",
      " 3   High      2583 non-null   object\n",
      " 4   Low       2583 non-null   object\n",
      " 5   Vol.      2578 non-null   object\n",
      " 6   Change %  2583 non-null   object\n",
      "dtypes: object(7)\n",
      "memory usage: 141.4+ KB\n",
      "information about df : \n",
      "None\n",
      "\n",
      "\n",
      "description about df : \n",
      "              Date     Price      Open      High       Low   Vol. Change %\n",
      "count         2583      2583      2583      2583      2583   2578     2583\n",
      "unique        2583      2072      2061      2044      2019   1550      474\n",
      "top     12/30/2022  1,294.30  1,325.00  1,220.00  1,312.30  0.02K    0.00%\n",
      "freq             1         5         5         6         5     48       29\n",
      "\n",
      "\n",
      "head of df : \n",
      "         Date     Price      Open      High       Low     Vol. Change %\n",
      "0  12/30/2022  1,826.20  1,821.80  1,832.40  1,819.80  107.50K    0.01%\n",
      "1  12/29/2022  1,826.00  1,812.30  1,827.30  1,811.20  105.99K    0.56%\n",
      "2  12/28/2022  1,815.80  1,822.40  1,822.80  1,804.20  118.08K   -0.40%\n",
      "3  12/27/2022  1,823.10  1,808.20  1,841.90  1,808.00  159.62K    0.74%\n",
      "4  12/26/2022  1,809.70  1,805.80  1,811.95  1,805.55      NaN    0.30%\n",
      "\n",
      "\n",
      "tail of df : \n",
      "            Date     Price      Open      High       Low   Vol. Change %\n",
      "2578  01/08/2013  1,663.20  1,651.50  1,662.60  1,648.80  0.13K    0.97%\n",
      "2579  01/07/2013  1,647.20  1,657.30  1,663.80  1,645.30  0.09K   -0.16%\n",
      "2580  01/04/2013  1,649.90  1,664.40  1,664.40  1,630.00  0.31K   -1.53%\n",
      "2581  01/03/2013  1,675.60  1,688.00  1,689.30  1,664.30  0.19K   -0.85%\n",
      "2582  01/02/2013  1,689.90  1,675.80  1,695.00  1,672.10  0.06K    0.78%\n",
      "\n",
      "\n",
      "value count of df : \n",
      " Date\n",
      "12/30/2022    1\n",
      "12/29/2022    1\n",
      "12/28/2022    1\n",
      "12/27/2022    1\n",
      "12/26/2022    1\n",
      "             ..\n",
      "01/08/2013    1\n",
      "01/07/2013    1\n",
      "01/04/2013    1\n",
      "01/03/2013    1\n",
      "01/02/2013    1\n",
      "Name: count, Length: 2583, dtype: int64\n",
      "value count of df : \n",
      " Price\n",
      "1,294.30    5\n",
      "1,277.10    4\n",
      "1,299.00    4\n",
      "1,290.80    4\n",
      "1,225.80    4\n",
      "           ..\n",
      "1,755.30    1\n",
      "1,609.50    1\n",
      "1,795.30    1\n",
      "1,804.20    1\n",
      "1,809.70    1\n",
      "Name: count, Length: 2072, dtype: int64\n",
      "value count of df : \n",
      " Open\n",
      "1,325.00    5\n",
      "1,321.00    5\n",
      "1,284.00    5\n",
      "1,278.00    4\n",
      "1,277.90    4\n",
      "           ..\n",
      "1,648.60    1\n",
      "1,652.50    1\n",
      "1,642.50    1\n",
      "1,822.60    1\n",
      "1,801.60    1\n",
      "Name: count, Length: 2061, dtype: int64\n",
      "value count of df : \n",
      " High\n",
      "1,220.00    6\n",
      "1,304.80    6\n",
      "1,229.00    4\n",
      "1,272.40    4\n",
      "1,244.40    4\n",
      "           ..\n",
      "1,829.30    1\n",
      "1,827.30    1\n",
      "1,689.30    1\n",
      "1,836.90    1\n",
      "1,665.80    1\n",
      "Name: count, Length: 2044, dtype: int64\n",
      "value count of df : \n",
      " Low\n",
      "1,312.30    5\n",
      "1,275.00    5\n",
      "1,309.00    5\n",
      "1,268.40    5\n",
      "1,190.00    5\n",
      "           ..\n",
      "1,669.20    1\n",
      "1,674.50    1\n",
      "1,688.00    1\n",
      "1,666.60    1\n",
      "1,656.30    1\n",
      "Name: count, Length: 2019, dtype: int64\n",
      "value count of df : \n",
      " Vol.\n",
      "0.02K      48\n",
      "0.01K      45\n",
      "0.04K      42\n",
      "0.03K      38\n",
      "0.07K      33\n",
      "           ..\n",
      "0.89K       1\n",
      "17.22K      1\n",
      "254.86K     1\n",
      "164.11K     1\n",
      "165.13K     1\n",
      "Name: count, Length: 1550, dtype: int64\n",
      "value count of df : \n",
      " Change %\n",
      "0.00%     29\n",
      "0.04%     27\n",
      "0.03%     25\n",
      "-0.20%    24\n",
      "-0.14%    23\n",
      "          ..\n",
      "-1.52%     1\n",
      "-1.34%     1\n",
      "1.87%      1\n",
      "-9.34%     1\n",
      "-4.06%     1\n",
      "Name: count, Length: 474, dtype: int64\n",
      "all unwanted columns can be removed.\n",
      "shape of df : (2583, 2)\n",
      "\n",
      "columns of df : Index(['Date', 'Price'], dtype='object')\n",
      "\n",
      "\n",
      "<class 'pandas.core.frame.DataFrame'>\n",
      "RangeIndex: 2583 entries, 0 to 2582\n",
      "Data columns (total 2 columns):\n",
      " #   Column  Non-Null Count  Dtype \n",
      "---  ------  --------------  ----- \n",
      " 0   Date    2583 non-null   object\n",
      " 1   Price   2583 non-null   object\n",
      "dtypes: object(2)\n",
      "memory usage: 40.5+ KB\n",
      "information about df : \n",
      "None\n",
      "\n",
      "\n",
      "description about df : \n",
      "              Date     Price\n",
      "count         2583      2583\n",
      "unique        2583      2072\n",
      "top     12/30/2022  1,294.30\n",
      "freq             1         5\n",
      "\n",
      "\n",
      "head of df : \n",
      "         Date     Price\n",
      "0  12/30/2022  1,826.20\n",
      "1  12/29/2022  1,826.00\n",
      "2  12/28/2022  1,815.80\n",
      "3  12/27/2022  1,823.10\n",
      "4  12/26/2022  1,809.70\n",
      "\n",
      "\n",
      "tail of df : \n",
      "            Date     Price\n",
      "2578  01/08/2013  1,663.20\n",
      "2579  01/07/2013  1,647.20\n",
      "2580  01/04/2013  1,649.90\n",
      "2581  01/03/2013  1,675.60\n",
      "2582  01/02/2013  1,689.90\n",
      "\n",
      "\n",
      "value count of df : \n",
      " Date\n",
      "12/30/2022    1\n",
      "12/29/2022    1\n",
      "12/28/2022    1\n",
      "12/27/2022    1\n",
      "12/26/2022    1\n",
      "             ..\n",
      "01/08/2013    1\n",
      "01/07/2013    1\n",
      "01/04/2013    1\n",
      "01/03/2013    1\n",
      "01/02/2013    1\n",
      "Name: count, Length: 2583, dtype: int64\n",
      "value count of df : \n",
      " Price\n",
      "1,294.30    5\n",
      "1,277.10    4\n",
      "1,299.00    4\n",
      "1,290.80    4\n",
      "1,225.80    4\n",
      "           ..\n",
      "1,755.30    1\n",
      "1,609.50    1\n",
      "1,795.30    1\n",
      "1,804.20    1\n",
      "1,809.70    1\n",
      "Name: count, Length: 2072, dtype: int64\n",
      "           Date   Price\n",
      "2582 2013-01-02  1689.9\n",
      "2581 2013-01-03  1675.6\n",
      "2580 2013-01-04  1649.9\n",
      "2579 2013-01-07  1647.2\n",
      "2578 2013-01-08  1663.2\n",
      "        Date   Price\n",
      "4 2022-12-26  1809.7\n",
      "3 2022-12-27  1823.1\n",
      "2 2022-12-28  1815.8\n",
      "1 2022-12-29  1826.0\n",
      "0 2022-12-30  1826.2\n",
      "Column-wise missing values:\n",
      "Date     0\n",
      "Price    0\n",
      "dtype: int64\n",
      "\n",
      "Total missing values: 0\n",
      "\n",
      "Numerical columns: ['Price']\n",
      "Categorical columns: []\n",
      "duplicated  values : 0\n"
     ]
    }
   ],
   "source": [
    "df=test_training()"
   ]
  },
  {
   "cell_type": "code",
   "execution_count": 51,
   "id": "cacb9f3f",
   "metadata": {},
   "outputs": [
    {
     "data": {
      "text/plain": [
       "(           Date   Price\n",
       " 2582 2013-01-02  1689.9\n",
       " 2581 2013-01-03  1675.6\n",
       " 2580 2013-01-04  1649.9\n",
       " 2579 2013-01-07  1647.2\n",
       " 2578 2013-01-08  1663.2,\n",
       "         Date   Price\n",
       " 4 2022-12-26  1809.7\n",
       " 3 2022-12-27  1823.1\n",
       " 2 2022-12-28  1815.8\n",
       " 1 2022-12-29  1826.0\n",
       " 0 2022-12-30  1826.2)"
      ]
     },
     "execution_count": 51,
     "metadata": {},
     "output_type": "execute_result"
    }
   ],
   "source": [
    "df.head(),df.tail()"
   ]
  },
  {
   "cell_type": "code",
   "execution_count": null,
   "id": "4f8209ec",
   "metadata": {},
   "outputs": [],
   "source": []
  },
  {
   "cell_type": "code",
   "execution_count": 39,
   "id": "10223905",
   "metadata": {},
   "outputs": [
    {
     "data": {
      "text/plain": [
       "([5, 20, 60, 120, 240], 240, 260)"
      ]
     },
     "execution_count": 39,
     "metadata": {},
     "output_type": "execute_result"
    }
   ],
   "source": [
    "windows=[5,20,60,120,240]\n",
    "mx_size=max(windows)\n",
    "test_size=df[df[\"Date\"].dt.year==2022].shape[0]\n",
    "\n",
    "windows,mx_size,test_size"
   ]
  },
  {
   "cell_type": "code",
   "execution_count": 46,
   "id": "540f5b11",
   "metadata": {},
   "outputs": [],
   "source": [
    "def plot_difference_figure(\n",
    "        x1,y1,\n",
    "        x2,y2\n",
    "):\n",
    "    try:\n",
    "        plt.figure(\n",
    "            figsize=(15,6),\n",
    "            dpi=150\n",
    "        )\n",
    "        plt.rcParams[\"axes.facecolor\"] = \"pink\"\n",
    "        plt.rcParams[\"axes.edgecolor\"] = \"white\"\n",
    "        plt.plot(\n",
    "            x1,y1,\n",
    "            color=\"blue\",\n",
    "            lw=2\n",
    "        )\n",
    "        plt.plot(\n",
    "            x2,y2,\n",
    "            color=\"yellow\",\n",
    "            lw=2\n",
    "        )\n",
    "        plt.legend(\n",
    "            [\n",
    "                \"Training set\",\n",
    "                \"Test set\"\n",
    "            ],\n",
    "            loc=\"upper left\",\n",
    "            prop={\"size\":15}\n",
    "        )\n",
    "        plt.grid(color=\"white\")\n",
    "        plt.show()\n",
    "\n",
    "\n",
    "    except Exception as e:\n",
    "        print(f\"error : {e}\")"
   ]
  },
  {
   "cell_type": "code",
   "execution_count": 55,
   "id": "422546f0",
   "metadata": {},
   "outputs": [],
   "source": [
    "def plot_figure(x,y):\n",
    "    plt.plot(\n",
    "        x,y,\n",
    "        color=\"yellow\",\n",
    "        lw=2\n",
    "    )\n",
    "    plt.show()"
   ]
  },
  {
   "cell_type": "code",
   "execution_count": 56,
   "id": "e2b105c8",
   "metadata": {},
   "outputs": [
    {
     "name": "stdout",
     "output_type": "stream",
     "text": [
      "date_train shape :(2081,)\n",
      "x_train shape :(2081, 5)\n",
      "y_train shape :(2081,)\n",
      "start date : 2013-12-09 00:00:00,end date : 2021-12-31 00:00:00\n",
      "\u001b[1m66/66\u001b[0m \u001b[32m━━━━━━━━━━━━━━━━━━━━\u001b[0m\u001b[37m\u001b[0m \u001b[1m1s\u001b[0m 5ms/step\n"
     ]
    },
    {
     "data": {
      "image/png": "[encoded data removed]",
      "text/plain": [
       "<Figure size 640x480 with 1 Axes>"
      ]
     },
     "metadata": {},
     "output_type": "display_data"
    },
    {
     "name": "stdout",
     "output_type": "stream",
     "text": [
      "date_train shape :(2081,)\n",
      "x_train shape :(2081, 20)\n",
      "y_train shape :(2081,)\n",
      "start date : 2013-12-09 00:00:00,end date : 2021-12-31 00:00:00\n",
      "\u001b[1m66/66\u001b[0m \u001b[32m━━━━━━━━━━━━━━━━━━━━\u001b[0m\u001b[37m\u001b[0m \u001b[1m1s\u001b[0m 7ms/step\n"
     ]
    },
    {
     "data": {
      "image/png": "[encoded data removed]",
      "text/plain": [
       "<Figure size 640x480 with 1 Axes>"
      ]
     },
     "metadata": {},
     "output_type": "display_data"
    },
    {
     "name": "stdout",
     "output_type": "stream",
     "text": [
      "date_train shape :(2081,)\n",
      "x_train shape :(2081, 60)\n",
      "y_train shape :(2081,)\n",
      "start date : 2013-12-09 00:00:00,end date : 2021-12-31 00:00:00\n",
      "\u001b[1m66/66\u001b[0m \u001b[32m━━━━━━━━━━━━━━━━━━━━\u001b[0m\u001b[37m\u001b[0m \u001b[1m1s\u001b[0m 13ms/step\n"
     ]
    },
    {
     "data": {
      "image/png": "[encoded data removed]",
      "text/plain": [
       "<Figure size 640x480 with 1 Axes>"
      ]
     },
     "metadata": {},
     "output_type": "display_data"
    },
    {
     "name": "stdout",
     "output_type": "stream",
     "text": [
      "date_train shape :(2081,)\n",
      "x_train shape :(2081, 120)\n",
      "y_train shape :(2081,)\n",
      "start date : 2013-12-09 00:00:00,end date : 2021-12-31 00:00:00\n",
      "\u001b[1m66/66\u001b[0m \u001b[32m━━━━━━━━━━━━━━━━━━━━\u001b[0m\u001b[37m\u001b[0m \u001b[1m2s\u001b[0m 22ms/step\n"
     ]
    },
    {
     "data": {
      "image/png": "[encoded data removed]",
      "text/plain": [
       "<Figure size 640x480 with 1 Axes>"
      ]
     },
     "metadata": {},
     "output_type": "display_data"
    },
    {
     "name": "stdout",
     "output_type": "stream",
     "text": [
      "date_train shape :(2081,)\n",
      "x_train shape :(2081, 240)\n",
      "y_train shape :(2081,)\n",
      "start date : 2013-12-09 00:00:00,end date : 2021-12-31 00:00:00\n",
      "\u001b[1m66/66\u001b[0m \u001b[32m━━━━━━━━━━━━━━━━━━━━\u001b[0m\u001b[37m\u001b[0m \u001b[1m3s\u001b[0m 40ms/step\n"
     ]
    },
    {
     "data": {
      "image/png": "[encoded data removed]",
      "text/plain": [
       "<Figure size 640x480 with 1 Axes>"
      ]
     },
     "metadata": {},
     "output_type": "display_data"
    }
   ],
   "source": [
    "for window in windows:\n",
    "    model_file_name=f\"model_{window}_.keras\"\n",
    "    model = load_model(model_file_name)  \n",
    "\n",
    "    date,x_train,y_train=build_train_dataset(\n",
    "        df,\n",
    "        mx_size+1,\n",
    "        test_size,\n",
    "        window\n",
    "    )\n",
    "    print(f\"start date : {date[0]},end date : {date[-1]}\")\n",
    "\n",
    "    y_pred=model.predict(x_train)\n",
    "\n",
    "    # plot_difference_figure(\n",
    "    #     df[\"Date\"],df[\"Price\"],\n",
    "    #     date,y_pred\n",
    "    # )\n",
    "    \n",
    "\n",
    "    plot_figure(date,y_pred)"
   ]
  },
  {
   "cell_type": "code",
   "execution_count": null,
   "id": "d7eb4e30",
   "metadata": {},
   "outputs": [],
   "source": []
  },
  {
   "cell_type": "code",
   "execution_count": null,
   "id": "e2c6c46d",
   "metadata": {},
   "outputs": [],
   "source": []
  },
  {
   "cell_type": "code",
   "execution_count": null,
   "id": "3dad3b8c",
   "metadata": {},
   "outputs": [],
   "source": []
  },
  {
   "cell_type": "code",
   "execution_count": null,
   "id": "5e6dca5d",
   "metadata": {},
   "outputs": [],
   "source": []
  },
  {
   "cell_type": "code",
   "execution_count": null,
   "id": "c35ca3b9",
   "metadata": {},
   "outputs": [],
   "source": []
  },
  {
   "cell_type": "code",
   "execution_count": null,
   "id": "25691617",
   "metadata": {},
   "outputs": [],
   "source": []
  },
  {
   "cell_type": "code",
   "execution_count": null,
   "id": "d4b65f90",
   "metadata": {},
   "outputs": [],
   "source": []
  },
  {
   "cell_type": "code",
   "execution_count": null,
   "id": "00d7eaca",
   "metadata": {},
   "outputs": [],
   "source": []
  },
  {
   "cell_type": "code",
   "execution_count": null,
   "id": "d6aaa7c4",
   "metadata": {},
   "outputs": [],
   "source": []
  },
  {
   "cell_type": "code",
   "execution_count": null,
   "id": "c434ce05",
   "metadata": {},
   "outputs": [],
   "source": []
  },
  {
   "cell_type": "code",
   "execution_count": null,
   "id": "e7696047",
   "metadata": {},
   "outputs": [],
   "source": []
  },
  {
   "cell_type": "code",
   "execution_count": null,
   "id": "67e72e45",
   "metadata": {},
   "outputs": [],
   "source": []
  },
  {
   "cell_type": "code",
   "execution_count": null,
   "id": "027865fe",
   "metadata": {},
   "outputs": [],
   "source": []
  },
  {
   "cell_type": "code",
   "execution_count": null,
   "id": "720a8058",
   "metadata": {},
   "outputs": [],
   "source": []
  },
  {
   "cell_type": "code",
   "execution_count": null,
   "id": "20d7db42",
   "metadata": {},
   "outputs": [],
   "source": []
  },
  {
   "cell_type": "code",
   "execution_count": null,
   "id": "5ca8c508",
   "metadata": {},
   "outputs": [],
   "source": []
  },
  {
   "cell_type": "code",
   "execution_count": null,
   "id": "d0ebcf83",
   "metadata": {},
   "outputs": [],
   "source": []
  },
  {
   "cell_type": "code",
   "execution_count": null,
   "id": "f01c66b8",
   "metadata": {},
   "outputs": [],
   "source": []
  },
  {
   "cell_type": "code",
   "execution_count": null,
   "id": "36411d40",
   "metadata": {},
   "outputs": [],
   "source": []
  },
  {
   "cell_type": "code",
   "execution_count": null,
   "id": "8660fddc",
   "metadata": {},
   "outputs": [],
   "source": []
  },
  {
   "cell_type": "code",
   "execution_count": null,
   "id": "483425e3",
   "metadata": {},
   "outputs": [],
   "source": []
  },
  {
   "cell_type": "code",
   "execution_count": null,
   "id": "70a98d0b",
   "metadata": {},
   "outputs": [],
   "source": []
  },
  {
   "cell_type": "code",
   "execution_count": null,
   "id": "be80e130",
   "metadata": {},
   "outputs": [],
   "source": []
  }
 ],
 "metadata": {
  "kernelspec": {
   "display_name": "ml_dl_venv",
   "language": "python",
   "name": "python3"
  },
  "language_info": {
   "codemirror_mode": {
    "name": "ipython",
    "version": 3
   },
   "file_extension": ".py",
   "mimetype": "text/x-python",
   "name": "python",
   "nbconvert_exporter": "python",
   "pygments_lexer": "ipython3",
   "version": "3.13.2"
  }
 },
 "nbformat": 4,
 "nbformat_minor": 5
}
